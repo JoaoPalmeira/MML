{
 "cells": [
  {
   "cell_type": "code",
   "execution_count": 167,
   "metadata": {},
   "outputs": [],
   "source": [
    "import numpy as np\n",
    "import matplotlib.pyplot as plt"
   ]
  },
  {
   "cell_type": "code",
   "execution_count": 168,
   "metadata": {},
   "outputs": [],
   "source": [
    "run yales.py"
   ]
  },
  {
   "cell_type": "code",
   "execution_count": 169,
   "metadata": {},
   "outputs": [
    {
     "data": {
      "text/plain": [
       "135"
      ]
     },
     "execution_count": 169,
     "metadata": {},
     "output_type": "execute_result"
    }
   ],
   "source": [
    "# Ler das imagens para uma matriz 'X' e um array 'lista'\n",
    "X, lista, size = readImages()\n",
    "size"
   ]
  },
  {
   "cell_type": "code",
   "execution_count": 170,
   "metadata": {},
   "outputs": [
    {
     "data": {
      "text/plain": [
       "(77760,)"
      ]
     },
     "execution_count": 170,
     "metadata": {},
     "output_type": "execute_result"
    }
   ],
   "source": [
    "X[1].shape"
   ]
  },
  {
   "cell_type": "code",
   "execution_count": 171,
   "metadata": {},
   "outputs": [
    {
     "data": {
      "text/plain": [
       "(135, 77760)"
      ]
     },
     "execution_count": 171,
     "metadata": {},
     "output_type": "execute_result"
    }
   ],
   "source": [
    "X.shape\n"
   ]
  },
  {
   "cell_type": "code",
   "execution_count": 172,
   "metadata": {},
   "outputs": [
    {
     "name": "stdout",
     "output_type": "stream",
     "text": [
      "Número de vectores pp a usar: 6\n"
     ]
    },
    {
     "data": {
      "text/plain": [
       "array([1.44318218e+10, 6.30507308e+09, 4.06782865e+09, 3.47216907e+09,\n",
       "       2.23185576e+09, 1.89082289e+09, 1.28543535e+09, 1.07324364e+09,\n",
       "       1.02948911e+09, 9.03158968e+08, 6.46046535e+08, 5.73357275e+08,\n",
       "       4.60385827e+08, 4.40211152e+08, 4.05823634e+08, 3.79246134e+08,\n",
       "       3.35584544e+08, 3.17700453e+08, 2.86464120e+08, 2.53509339e+08,\n",
       "       2.35506556e+08, 2.07349407e+08, 2.00257206e+08, 1.89083688e+08,\n",
       "       1.67521371e+08, 1.65100496e+08, 1.55711344e+08, 1.45879747e+08,\n",
       "       1.37841624e+08, 1.29038239e+08, 1.26826592e+08, 1.15695695e+08,\n",
       "       1.13407457e+08, 1.08853433e+08, 1.04994188e+08, 9.80713102e+07,\n",
       "       9.13636289e+07, 8.97968729e+07, 8.64722725e+07, 8.37519768e+07,\n",
       "       7.87545185e+07, 7.70216671e+07, 7.52194570e+07, 7.16397224e+07,\n",
       "       6.88205227e+07, 6.77572560e+07, 6.50444913e+07, 6.19825480e+07,\n",
       "       5.81075712e+07, 5.76287073e+07, 5.60557711e+07, 5.52910808e+07,\n",
       "       5.40671832e+07, 5.35155739e+07, 5.11875236e+07, 4.88871887e+07,\n",
       "       4.75371738e+07, 4.58339851e+07, 4.53788641e+07, 4.49905775e+07,\n",
       "       4.38825054e+07, 4.26456550e+07, 4.11034880e+07, 4.04395096e+07,\n",
       "       3.89334476e+07, 3.83323747e+07, 3.70933997e+07, 3.57715929e+07,\n",
       "       3.51709038e+07, 3.48686396e+07, 3.39593037e+07, 3.33228894e+07,\n",
       "       3.25898016e+07, 3.15100812e+07, 3.11754389e+07, 3.05386476e+07,\n",
       "       2.90114708e+07, 2.86115722e+07, 2.76775985e+07, 2.75636936e+07,\n",
       "       2.71426745e+07, 2.70130095e+07, 2.61898382e+07, 2.50915946e+07,\n",
       "       2.47546036e+07, 2.36868909e+07, 2.32300920e+07, 2.25479370e+07,\n",
       "       2.17782650e+07, 2.16004599e+07, 2.09683073e+07, 1.99098444e+07,\n",
       "       1.95253316e+07, 1.91679114e+07, 1.86127804e+07, 1.83961482e+07,\n",
       "       1.78133828e+07, 1.74941434e+07, 1.70851284e+07, 1.64038236e+07,\n",
       "       1.59331467e+07, 1.56287241e+07, 1.47276104e+07, 1.38735123e+07,\n",
       "       1.33899210e+07, 1.28395722e+07, 1.27999689e+07, 1.26117466e+07,\n",
       "       1.20437425e+07, 1.20172749e+07, 1.11553763e+07, 1.06258920e+07,\n",
       "       1.05453336e+07, 1.00384463e+07, 9.71309019e+06, 9.22012847e+06,\n",
       "       8.77736496e+06, 8.01131044e+06, 7.76766480e+06, 6.86209272e+06,\n",
       "       6.36981735e+06, 5.94404129e+06, 5.78932865e+06, 5.48824285e+06,\n",
       "       4.98693363e+06, 4.33274474e+06, 1.62700578e+06, 1.29637617e+06,\n",
       "       6.20698121e-22, 8.08044731e-23, 5.37752246e-23, 5.37752246e-23,\n",
       "       5.37752246e-23, 5.37752246e-23, 5.37752246e-23])"
      ]
     },
     "execution_count": 172,
     "metadata": {},
     "output_type": "execute_result"
    }
   ],
   "source": [
    "# Obter os vectores pp de acordo com um certo nivel de confianca\n",
    "k, eigenvalues, eigenvectors, phi, mean, variance = pca(X, 0.7)\n",
    "eigenvalues"
   ]
  },
  {
   "cell_type": "code",
   "execution_count": 173,
   "metadata": {},
   "outputs": [
    {
     "name": "stdout",
     "output_type": "stream",
     "text": [
      "Número de vectores pp a usar: 6\n"
     ]
    },
    {
     "data": {
      "image/png": "[encoded data removed]",
      "text/plain": [
       "<Figure size 720x720 with 1 Axes>"
      ]
     },
     "metadata": {
      "needs_background": "light"
     },
     "output_type": "display_data"
    }
   ],
   "source": [
    "# Obter os vectores pp de acordo com um certo nivel de confianca\n",
    "k, eigenvalues, eigenvectors, phi, mean, variance = pca(X, 0.7)\n",
    "# Alterar nome da variável\n",
    "ponto=eigenvalues\n",
    "# Obter o gráfico do cotovelo\n",
    "plt.figure(figsize=(10,10))\n",
    "t = np.arange(0, size, 1)\n",
    "plt.plot(t, eigenvalues, 'x')\n",
    "#plt.plot(np.argmin(ponto), eigenvalues[np.argmin(ponto)], 'o')\n",
    "plt.plot(k, eigenvalues[k], 'o')\n",
    "plt.show()"
   ]
  },
  {
   "cell_type": "code",
   "execution_count": 174,
   "metadata": {},
   "outputs": [
    {
     "data": {
      "text/plain": [
       "array([0.00038497, 0.00058577, 0.00067274, ..., 0.        , 0.        ,\n",
       "       0.        ])"
      ]
     },
     "execution_count": 174,
     "metadata": {},
     "output_type": "execute_result"
    }
   ],
   "source": [
    "eigenvectors.T[0]"
   ]
  },
  {
   "cell_type": "code",
   "execution_count": 175,
   "metadata": {},
   "outputs": [],
   "source": [
    "# Exemplo de uma eigenface do dataset\n",
    "#display(plt.matshow(np.reshape(eigenvectors.T[0], (320,243)), cmap=plt.cm.RdYlGn))"
   ]
  },
  {
   "cell_type": "code",
   "execution_count": 176,
   "metadata": {},
   "outputs": [],
   "source": [
    "# Exemplo da \"cara média\" do dataset\n",
    "#display(plt.matshow(np.reshape(mean, (320,243)), cmap='gray'))"
   ]
  },
  {
   "cell_type": "code",
   "execution_count": 177,
   "metadata": {},
   "outputs": [
    {
     "data": {
      "text/plain": [
       "[array([-4864.40351288, -8090.83183578,  4422.29010061, -1835.88559634,\n",
       "         2734.05057196, -3878.00233127]),\n",
       " array([-22532.85848489,  11353.52839625,  -6832.87071504,    967.92700985,\n",
       "           -34.90923279,   2230.1406281 ]),\n",
       " array([-3500.42714057, -8463.76232371,  5394.00492642,  -878.07095966,\n",
       "         3365.52513274, -3614.66644076]),\n",
       " array([-2688.46276046, -8651.00213929,  4344.78391338, -2512.51114969,\n",
       "         1507.51499249, -1794.6835069 ]),\n",
       " array([ 5566.98294099, -2218.79262482, -7177.62382675,  1706.33901756,\n",
       "         3905.20268566,  1048.4221731 ]),\n",
       " array([ 3395.4509267 , -4085.62586217, -3540.99190735,  2099.04245604,\n",
       "        -3542.84442115,  2542.19413457]),\n",
       " array([ 16308.90769298,  12400.05955658,   8293.61615346, -10057.62997018,\n",
       "          4983.15367383,  -2766.3470068 ]),\n",
       " array([12583.32052991,  7214.91465832, -6512.22666462, -4940.58586448,\n",
       "         4083.10775876,   529.15668767]),\n",
       " array([12879.66337906,  3526.19448447, -4817.56992756,  3695.58012678,\n",
       "          -98.62850619,  2799.38593236]),\n",
       " array([ 7810.29256746,   831.50354513, -6776.20044923,  2493.22832151,\n",
       "        -2302.55180241,  1306.50387902]),\n",
       " array([  3401.81108375,  15671.87236597,   4513.24734754, -14533.4718799 ,\n",
       "          2984.32527248,    514.64412338]),\n",
       " array([12088.21081109,  2011.10219461, -3255.56214482,  4114.05401079,\n",
       "         -553.7890836 ,  2374.87392041]),\n",
       " array([-3205.44644738, -8432.12436022,  4418.67062806, -2487.33455158,\n",
       "         2375.25827982, -3297.25692978]),\n",
       " array([ 11476.22432588,  11878.44657072,  12305.85029364, -10354.17335974,\n",
       "          1414.18971386,  -1209.51714446]),\n",
       " array([ 1060.39386456, -5730.40475838,  6918.06066361,  2387.78177161,\n",
       "        -3544.66388526,  5670.60397412]),\n",
       " array([-3757.91949265, -8337.86179952,  6562.52002093, -1360.94123505,\n",
       "         1465.67706553, -1738.55343227]),\n",
       " array([-21362.27985494,  11078.02301796,  -7993.5834064 ,   2219.11539514,\n",
       "          1006.29746707,   2824.47821515]),\n",
       " array([-13236.39713224,  17736.5200755 ,  10223.68599442,  10681.07426713,\n",
       "            47.10700334,   2447.28515919]),\n",
       " array([ 16851.67738234,  13005.48094052,  -3742.56932277, -10201.35382805,\n",
       "          4098.17968765,   1025.59704466]),\n",
       " array([-3895.84134047, -7298.10744135,  2252.485899  , -2985.69859474,\n",
       "          381.72323222,  4538.27803134]),\n",
       " array([  393.41555045, -5964.32166614,  7484.0704092 ,  1866.89406104,\n",
       "        -2717.09698437,  4782.19868954]),\n",
       " array([  4091.75229682,   1850.86191847,   4373.53600248,   1865.05464943,\n",
       "        -10415.38458599,  -6901.03498713]),\n",
       " array([11138.22568599,  3964.83040062, -5066.43776317,  1202.11791119,\n",
       "         1153.46014224,   920.81452631]),\n",
       " array([-20985.24553601,   9994.49545999,  -6831.20291985,   -378.66996729,\n",
       "          -199.84293805,   1926.39521323]),\n",
       " array([-7723.04451604, -6075.02764855, -2303.32664862, -5954.84632916,\n",
       "        -1022.18098584,  3817.82759049]),\n",
       " array([ 4467.86869417, -4706.39296802, -3650.92553621,  3770.46424838,\n",
       "         8380.25010325, -6155.84005917]),\n",
       " array([-3431.93200085, -6684.71081341,  6640.0634328 , -1153.86000544,\n",
       "         -711.34684195,   271.08347461]),\n",
       " array([12886.81687726,  3487.36060825, -5076.82303275,  3477.21812535,\n",
       "         -701.34740993,  3121.36954361]),\n",
       " array([-21863.71626769,  10985.40858208,  -7243.16715135,    808.17871523,\n",
       "           145.25870174,   2178.47189339]),\n",
       " array([  7409.69983247,   4524.81346109,   1594.52167355,    594.81752285,\n",
       "         -8026.1511491 , -10145.77030899]),\n",
       " array([ 6232.27120288, -1547.03713916, -7775.96038867,  1677.26065357,\n",
       "         4014.04882978,   625.57008283]),\n",
       " array([ 5.24800729e+03, -4.06430782e+02,  1.77923187e+03, -1.64445210e+02,\n",
       "         4.47391773e+00,  3.13058127e+03]),\n",
       " array([ 5312.19719129, -2406.42493039, -6817.82962986,  1650.41192588,\n",
       "         3927.18939561,  1124.68836962]),\n",
       " array([ 7.92691678e+03,  6.80463558e+01, -9.51879455e+03,  1.37924764e+03,\n",
       "        -7.78463349e+02,  4.30500152e+00]),\n",
       " array([15600.89179848,  9970.2975656 ,  4415.69664496, -6337.58713675,\n",
       "         -906.65165992,   786.3047037 ]),\n",
       " array([-13131.53899862,  17846.29027679,   8326.45803999,   9801.8074573 ,\n",
       "          4611.36625223,   1212.16954414]),\n",
       " array([-7149.69058354, -6431.26868548, -1472.34087004, -6178.38087529,\n",
       "         -278.93337635,  2663.19178435]),\n",
       " array([-3659.89240017, -5642.1851637 ,  2871.34777821, -2205.97732791,\n",
       "        -5117.75786597,  7995.39469363]),\n",
       " array([12187.77576945,  3016.15689798, -3980.9030955 ,  3537.49782429,\n",
       "        -1181.56295653,  3021.62399542]),\n",
       " array([-16979.34938063,   1146.26927495,  -8083.74155901,  -6621.39449578,\n",
       "         -3064.66217759,  -2953.84329908]),\n",
       " array([12814.95168667,  3363.17387431, -4673.05390135,  3776.72392988,\n",
       "           23.5281805 ,  2771.13882448]),\n",
       " array([ 9775.09179572,  1262.56966014, -2009.17212397,  5511.03861723,\n",
       "        -1946.1771247 ,  1709.77116554]),\n",
       " array([-1166.56275254, -6357.61631467,  7548.05512542,   692.9541087 ,\n",
       "        -3179.13295343,  6217.97412766]),\n",
       " array([ 6167.57274484,  2779.48107976,  3001.52349498,  2242.26240484,\n",
       "        -9633.82966933, -8688.82158832]),\n",
       " array([ -11.13857127, 9027.84414423,  -64.73416282, 8900.34102823,\n",
       "        1930.06526744,  613.84083333]),\n",
       " array([-17043.80796717,    567.4634392 ,  -6365.05309194,  -6721.3123361 ,\n",
       "         -2769.00154033,  -3924.27182539]),\n",
       " array([-16186.38762839,   -347.43770463,  -6795.00824064,  -7032.04462581,\n",
       "         -2821.82074662,  -3528.04343103]),\n",
       " array([  712.71164731, -5562.15952392,  6358.37637876,  1924.09700866,\n",
       "        -3283.58792875,  5910.76587482]),\n",
       " array([-5585.36998995, -7944.12963702,  4890.60178218, -1879.56261604,\n",
       "         1962.16996757, -4126.02288677]),\n",
       " array([  9843.83106892,  11304.95658256,   9614.9314428 , -13782.17827338,\n",
       "           300.0987926 ,   6117.99611287]),\n",
       " array([-17288.1489187 ,    603.63833366,  -5659.14913502,  -6967.72471034,\n",
       "         -3255.28106126,  -3555.38650054]),\n",
       " array([ 4067.99309515, -3972.98941015, -4459.75845494,  2477.19047324,\n",
       "        -3510.00054608,  2581.92036609]),\n",
       " array([ 1464.903649  , -6932.20352258,  3080.12644685,  1015.52012534,\n",
       "         1036.19202811,   876.23014265]),\n",
       " array([-15993.24541824,  14745.68986936,  12422.75123322,  10801.74514386,\n",
       "          4543.5687095 ,   -384.26104594]),\n",
       " array([-4553.70970556, -8013.76121968,  4061.79465353, -2764.41130355,\n",
       "         1408.08663566,  2145.79564595]),\n",
       " array([-5550.10209494, -6908.33289253, -1027.70193754, -5543.74047425,\n",
       "          -41.14557105,  3799.35070151]),\n",
       " array([ 2885.01562452, -5954.61680085, -2111.44622722,  3225.18714201,\n",
       "         7754.35461693, -5695.66413806]),\n",
       " array([-5550.10209494, -6908.33289253, -1027.70193754, -5543.74047425,\n",
       "          -41.14557105,  3799.35070151]),\n",
       " array([-1607.18265581, -6983.13201346,   -64.95642801,   802.48899821,\n",
       "         6803.13675288, -7078.22369201]),\n",
       " array([ 8899.77925133,   -72.75062106,  -345.34478832,  6327.10597546,\n",
       "        -1337.39363574,  -343.22365563]),\n",
       " array([  654.08662591, -5954.7091945 ,  6936.06136584,  2000.74793807,\n",
       "        -3523.70576387,  5983.84828872]),\n",
       " array([12879.66337906,  3526.19448447, -4817.56992756,  3695.58012678,\n",
       "          -98.62850619,  2799.38593236]),\n",
       " array([ 5947.84872624, -2332.90745791, -6493.04102387,  3037.01431664,\n",
       "        -3262.83791587,  2549.02073973]),\n",
       " array([-4364.95292001, -8384.56587438,  3075.12663276, -3323.69431123,\n",
       "          -66.97851062,  1381.85441748]),\n",
       " array([ 3665.57385872, -4112.60455098, -4156.35977781,  2171.14578949,\n",
       "        -3090.51832028,  2567.40583704]),\n",
       " array([-11371.75487748,   6244.00106198,  11383.77847467,   8249.76261208,\n",
       "          1060.91168172,   5570.15489618]),\n",
       " array([ 8972.0472907 ,  2204.60433454, -1284.0151117 ,  1036.2148461 ,\n",
       "          298.57890157,   896.0758203 ]),\n",
       " array([ 6724.74229084, -1189.93976346, -7296.18908994,  2091.35312016,\n",
       "         3626.9769489 ,   940.90662452]),\n",
       " array([-3757.91949265, -8337.86179952,  6562.52002093, -1360.94123505,\n",
       "         1465.67706553, -1738.55343227]),\n",
       " array([-6087.21494391, -7514.50987061,   556.81874612, -5448.90913035,\n",
       "          992.51429612,  1605.786221  ]),\n",
       " array([ 15669.91288545,   9802.34205902,   4306.36444231, -11735.83240834,\n",
       "          5613.85257198,    735.74457091]),\n",
       " array([-3660.63596141, -8810.97141581,  4476.6088338 , -2894.10660113,\n",
       "         1930.4293707 , -2965.43660835]),\n",
       " array([-18126.70938333,   8328.93816617,   8700.57850968,   8301.33809244,\n",
       "          4291.30356577,   -598.00389796]),\n",
       " array([ 3641.86963493, -5359.61088747, -2265.57717126,  3767.86298904,\n",
       "         8075.70234394, -6304.6555542 ]),\n",
       " array([  893.0076699 , -7141.36141229,  3625.93557754,   837.08950408,\n",
       "          930.6973208 ,   807.04108102]),\n",
       " array([ 9747.45131069,   994.24169209, -2686.81703843,  5690.12098728,\n",
       "        -1685.45315381,  1290.67863998]),\n",
       " array([ 4228.4316317 , -3700.370179  , -4965.01967211,  2441.14424942,\n",
       "        -3943.30200848,  3292.24308363]),\n",
       " array([ 4902.3503904 , -4162.75172974, -4084.13400834,  3992.42262129,\n",
       "         8196.48299896, -6121.31180888]),\n",
       " array([ 4165.18109582, -5265.69630115, -3036.69594278,  3937.9133621 ,\n",
       "         8001.84133053, -5683.98807209]),\n",
       " array([ 4961.80568079,   232.02489328, -7235.90616341,  2975.53985155,\n",
       "           98.93423486,  1450.31935811]),\n",
       " array([-16129.70284117,   5382.17875705,  11624.94549609,   7371.58980397,\n",
       "          4545.05707098,   -390.21059345]),\n",
       " array([10001.81211914,  1207.82225744, -8516.37136385,  4263.29896163,\n",
       "        -2162.84780015,  2227.20832396]),\n",
       " array([ 9041.32143861,   393.91097804,  -687.40984367,  5911.38254521,\n",
       "        -1636.72176572,  -121.01213401]),\n",
       " array([10111.94179195,  1488.1280326 , -2149.46561931,  5925.94566508,\n",
       "        -1858.44933797,   395.28061169]),\n",
       " array([  764.17406403, -6056.05320493,  7068.97311117,  2047.7836369 ,\n",
       "        -3288.43531983,  5680.62090054]),\n",
       " array([10111.94179195,  1488.1280326 , -2149.46561931,  5925.94566508,\n",
       "        -1858.44933797,   395.28061169]),\n",
       " array([ 7186.24005893,  -549.5689364 , -6564.7210486 ,  2030.0972044 ,\n",
       "         1594.9926027 , -1039.02853226]),\n",
       " array([-6394.89499534, -8037.08178179,  1945.70039402, -5037.26987097,\n",
       "         -132.56081199,   289.5982703 ]),\n",
       " array([ 5894.23129714, -1921.95748842, -7208.89110476,  1905.06336832,\n",
       "         3808.33276206,  1344.83576198]),\n",
       " array([ 5809.71829694, -2407.83100843, -5893.64433259,  2659.70999705,\n",
       "        -3476.86834997,  1438.15242665]),\n",
       " array([-22262.06790578,   7280.17748937,  -3445.72634973,  -2375.93474612,\n",
       "         -3249.06397472,   -480.03508328]),\n",
       " array([-13917.27501268,   4499.40910133,   6600.56174876,   5742.26523501,\n",
       "          7787.14534467,  -5501.2758982 ]),\n",
       " array([ 4856.90870242, -3243.35228023, -5141.58333244,  2591.79072249,\n",
       "        -3914.64017079,  2385.2813787 ]),\n",
       " array([ 9944.94013692,  4877.87663432,  2093.1659523 ,  2182.80851943,\n",
       "        -8206.1600896 , -6433.06233209]),\n",
       " array([ 5386.26711098, -2400.24843937, -6873.18117214,  1702.05138823,\n",
       "         3908.66574773,  1331.27148422]),\n",
       " array([-22093.49757287,  12099.79093719,  -7631.44638118,   3848.02794426,\n",
       "          1108.33044005,   2391.70509056]),\n",
       " array([-5702.1322494 , -6928.49476786,  2426.63836234, -2977.20208288,\n",
       "        -2065.27327839,  3889.00099729]),\n",
       " array([ 7953.91286528,  3364.08337131,   539.23627405,  1423.23735151,\n",
       "        -8371.37288903, -7703.23673645]),\n",
       " array([-25403.44610996,  10696.88231896,  -1662.68303584,   1980.65117752,\n",
       "           -47.90653204,  -2049.34445368]),\n",
       " array([ 1248.52690299, -5794.07880137,   604.4386088 ,   364.56808867,\n",
       "         2169.14421697,  3557.81408916]),\n",
       " array([ 4909.93082897, -4567.11861247, -3684.7055855 ,  4253.71125619,\n",
       "         7854.64012451, -5589.47370021]),\n",
       " array([-4059.97869489, -8383.77883382,  6468.84324091, -1441.82874024,\n",
       "         1607.77108907, -2064.58793987]),\n",
       " array([-14992.75101957,   4264.25693829,   4535.26175432,   5590.42634894,\n",
       "          3907.84285913,    181.32048061]),\n",
       " array([-1006.76509294, -8314.48410508,  4709.30261969,   754.89041471,\n",
       "         2305.52948863,  -276.47256011]),\n",
       " array([  5662.27318572,   4737.47702275,   4192.23816838,    746.78011705,\n",
       "        -11638.23720747,  -8690.08105722]),\n",
       " array([ 4285.5336847 , -4248.0718023 , -1006.33265992,  2146.38482403,\n",
       "         5194.46946061, -2139.42513011]),\n",
       " array([12583.32052991,  7214.91465832, -6512.22666462, -4940.58586448,\n",
       "         4083.10775876,   529.15668767]),\n",
       " array([-7804.77495364, -5092.66785185, -3523.62512142, -5789.38760062,\n",
       "         -695.73280817,  1943.13551932]),\n",
       " array([  978.94822366, -5086.46740663,  3194.86592451,  1161.09916703,\n",
       "        -1811.9407736 ,  5930.51908454]),\n",
       " array([ 7422.4781861 , -1488.81081292,  -715.13842319,  6038.2601467 ,\n",
       "        -2488.78318564,  1238.6908742 ]),\n",
       " array([ 3833.64299891, -5477.81368455, -2557.437117  ,  3828.24064069,\n",
       "         8025.57096262, -5987.47906979]),\n",
       " array([-14749.1807922 ,   1583.2229448 ,  -7019.89058533,  -5731.22908455,\n",
       "         -2517.46682586,   1341.22382456]),\n",
       " array([ 15848.25903056,  10981.88981229,  -1808.70937402, -10423.47690178,\n",
       "          5186.98755049,    952.44073166]),\n",
       " array([-16650.3330796 ,    241.06078446,  -7363.5866383 ,  -7128.08502633,\n",
       "         -3520.54793054,  -3111.35087141]),\n",
       " array([-1811.35007861, -8243.83800971, -2001.77662209, -1642.53433772,\n",
       "         2332.90747972,   127.57785135]),\n",
       " array([  4387.28066396,   2069.70292665,   4105.7647465 ,   1728.20653426,\n",
       "        -11106.52307822,  -7419.84792206]),\n",
       " array([ 8165.95494388,  -698.42174573,  -380.07441991,  6053.97172071,\n",
       "        -1675.97024026,   394.52085876]),\n",
       " array([-3655.72357068, -9127.33252646,  3984.72382627, -3240.72302741,\n",
       "         1562.19152327, -2002.13894522]),\n",
       " array([-15143.45370234,  -1337.48740346,  -4629.45720219,  -7391.57046771,\n",
       "         -2954.78601355,  -3064.31077552]),\n",
       " array([-3655.72357068, -9127.33252646,  3984.72382627, -3240.72302741,\n",
       "         1562.19152327, -2002.13894522]),\n",
       " array([-6948.75263245, -6196.16344095,   382.29015365, -4781.973056  ,\n",
       "         -901.10954907,  4502.79925189]),\n",
       " array([18498.03164661, 11913.42972415, -1790.41413623, -7077.14514781,\n",
       "         3032.78316459,  1372.50067646]),\n",
       " array([ 5975.97095866, -3697.06482674,  2321.04516291,  4942.97989074,\n",
       "         -690.18109447,   688.76192995]),\n",
       " array([ 1574.65269253,  1532.79732922,  6529.59480363,  9608.51253178,\n",
       "        -1799.85772557,  2985.53705331]),\n",
       " array([ 8361.89323236,  4471.05589971,  1035.41185505,  1585.12522028,\n",
       "        -9056.48939493, -9063.13767367]),\n",
       " array([-14204.73191111,  -2121.75339752,  -4049.66810843,  -7212.04573505,\n",
       "         -2468.62125174,  -2931.53347985]),\n",
       " array([-2968.38899912, -8749.48150456,  4344.53970842, -2431.83646847,\n",
       "         2106.22318089, -2963.85735571]),\n",
       " array([  3931.61112931,   1429.07737126,   3628.4710757 ,   1702.65747157,\n",
       "        -10628.10990738,  -7107.27688402]),\n",
       " array([-15825.20389134,   -538.57034502,  -5930.27836544,  -7267.34779735,\n",
       "         -2856.47315406,  -3470.23788   ]),\n",
       " array([ 2679.3249578 , -5951.44284815,  2008.31258302,  2261.42714485,\n",
       "         2068.28484432,  -975.03506232]),\n",
       " array([-21103.86651775,  10361.05796438,  -7205.57577283,    376.69876746,\n",
       "           227.91124076,   2063.14243096]),\n",
       " array([-3202.91431402, -5759.72520473,  3317.3843152 , -1867.25661152,\n",
       "        -5068.85115157,  7979.80702172]),\n",
       " array([5997.67851568, -392.02007032,  988.07550529,  332.11373396,\n",
       "        -214.34621425, 3352.02803389]),\n",
       " array([13499.28406914, 10194.36577683, 12114.347521  , -9657.87937307,\n",
       "         3625.54351593, -1956.7981461 ]),\n",
       " array([14647.69717208,  9013.81225442,  7013.59117455, -7107.66987756,\n",
       "        -1486.60051031,  2966.40620629])]"
      ]
     },
     "execution_count": 177,
     "metadata": {},
     "output_type": "execute_result"
    }
   ],
   "source": [
    "# Obter os coeficientes das projeccoes das eigenfaces\n",
    "coef_proj = coefProj(phi, eigenvectors, X.shape[0])\n",
    "coef_proj"
   ]
  },
  {
   "cell_type": "code",
   "execution_count": 184,
   "metadata": {},
   "outputs": [
    {
     "data": {
      "image/png": "[encoded data removed]",
      "text/plain": [
       "<PIL.Image.Image image mode=L size=320x243 at 0x1291CB5D0>"
      ]
     },
     "execution_count": 184,
     "metadata": {},
     "output_type": "execute_result"
    }
   ],
   "source": [
    "# Imagem para teste\n",
    "#imgsTest = glob.glob(\"TestYaleFaces/*.gif\")\n",
    "#for i in imgsTest:\n",
    "\n",
    "input_img = Image.open(\"TestYaleFaces/subject01.gif\").convert('L')\n",
    "input_img"
   ]
  },
  {
   "cell_type": "code",
   "execution_count": 185,
   "metadata": {},
   "outputs": [
    {
     "name": "stdout",
     "output_type": "stream",
     "text": [
      "Imagem nr.: 41\n"
     ]
    },
    {
     "data": {
      "image/png": "[encoded data removed]",
      "text/plain": [
       "<PIL.Image.Image image mode=L size=320x243 at 0x12995EE10>"
      ]
     },
     "execution_count": 185,
     "metadata": {},
     "output_type": "execute_result"
    }
   ],
   "source": [
    "# Teste do reconhecimento\n",
    "dist, test_coef_proj = testar(input_img, mean, eigenvectors, eigenvalues, X.shape[0], coef_proj, 'euclidian')\n",
    "lista[np.argmin(dist)]"
   ]
  },
  {
   "cell_type": "code",
   "execution_count": 186,
   "metadata": {},
   "outputs": [],
   "source": [
    "# Conclusoes: nao consegue reconhecer quando tem uma luz de lado. Caso contrario, faz bem o reconhecimento."
   ]
  },
  {
   "cell_type": "code",
   "execution_count": null,
   "metadata": {},
   "outputs": [],
   "source": []
  }
 ],
 "metadata": {
  "kernelspec": {
   "display_name": "Python 3",
   "language": "python",
   "name": "python3"
  },
  "language_info": {
   "codemirror_mode": {
    "name": "ipython",
    "version": 3
   },
   "file_extension": ".py",
   "mimetype": "text/x-python",
   "name": "python",
   "nbconvert_exporter": "python",
   "pygments_lexer": "ipython3",
   "version": "3.7.4"
  }
 },
 "nbformat": 4,
 "nbformat_minor": 2
}
