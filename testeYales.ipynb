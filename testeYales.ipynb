{
 "cells": [
  {
   "cell_type": "code",
   "execution_count": 1158,
   "metadata": {},
   "outputs": [],
   "source": [
    "import numpy as np\n",
    "import matplotlib.pyplot as plt"
   ]
  },
  {
   "cell_type": "code",
   "execution_count": 1238,
   "metadata": {},
   "outputs": [],
   "source": [
    "run yales.py\n"
   ]
  },
  {
   "cell_type": "code",
   "execution_count": 1239,
   "metadata": {},
   "outputs": [
    {
     "data": {
      "text/plain": [
       "126"
      ]
     },
     "execution_count": 1239,
     "metadata": {},
     "output_type": "execute_result"
    }
   ],
   "source": [
    "# Ler das imagens para uma matriz 'X' e um array 'lista'\n",
    "X, lista, size = readImages()\n",
    "size"
   ]
  },
  {
   "cell_type": "code",
   "execution_count": 1240,
   "metadata": {},
   "outputs": [
    {
     "data": {
      "text/plain": [
       "(77760,)"
      ]
     },
     "execution_count": 1240,
     "metadata": {},
     "output_type": "execute_result"
    }
   ],
   "source": [
    "X[1].shape"
   ]
  },
  {
   "cell_type": "code",
   "execution_count": 1241,
   "metadata": {},
   "outputs": [
    {
     "data": {
      "text/plain": [
       "(126, 77760)"
      ]
     },
     "execution_count": 1241,
     "metadata": {},
     "output_type": "execute_result"
    }
   ],
   "source": [
    "X.shape\n"
   ]
  },
  {
   "cell_type": "code",
   "execution_count": 1242,
   "metadata": {},
   "outputs": [
    {
     "name": "stdout",
     "output_type": "stream",
     "text": [
      "Número de vectores pp a usar: 10\n"
     ]
    },
    {
     "data": {
      "text/plain": [
       "array([1.41656886e+10, 6.13151396e+09, 3.85980683e+09, 3.22942153e+09,\n",
       "       2.12790150e+09, 1.76372645e+09, 1.25173132e+09, 1.08313613e+09,\n",
       "       1.00057741e+09, 8.59384435e+08, 6.56308171e+08, 5.43228339e+08,\n",
       "       4.40677576e+08, 4.32710771e+08, 3.92842763e+08, 3.47756912e+08,\n",
       "       3.36045913e+08, 2.73367606e+08, 2.59530026e+08, 2.38392275e+08,\n",
       "       2.12114252e+08, 1.88657275e+08, 1.75696213e+08, 1.61044451e+08,\n",
       "       1.48565370e+08, 1.42468499e+08, 1.40947093e+08, 1.29966579e+08,\n",
       "       1.29524285e+08, 1.22109751e+08, 1.09659718e+08, 1.05417049e+08,\n",
       "       1.00813213e+08, 9.95819452e+07, 9.15883346e+07, 8.69704287e+07,\n",
       "       8.43685529e+07, 7.96417214e+07, 7.83607799e+07, 7.47877639e+07,\n",
       "       7.16744137e+07, 6.76058212e+07, 6.48446562e+07, 6.30779076e+07,\n",
       "       5.88109108e+07, 5.66566896e+07, 5.53085341e+07, 5.48634727e+07,\n",
       "       5.35210870e+07, 5.06097519e+07, 4.91225752e+07, 4.64265020e+07,\n",
       "       4.57292380e+07, 4.48741730e+07, 4.34053667e+07, 4.15252691e+07,\n",
       "       4.12037685e+07, 4.06980321e+07, 3.90463382e+07, 3.78654789e+07,\n",
       "       3.70987645e+07, 3.62904910e+07, 3.49873471e+07, 3.44096335e+07,\n",
       "       3.26658758e+07, 3.19623964e+07, 3.07803408e+07, 3.02913940e+07,\n",
       "       2.96716295e+07, 2.86970764e+07, 2.80404545e+07, 2.69195638e+07,\n",
       "       2.66687331e+07, 2.57414063e+07, 2.49772791e+07, 2.45897771e+07,\n",
       "       2.39238590e+07, 2.33409062e+07, 2.28915065e+07, 2.23791675e+07,\n",
       "       2.22535289e+07, 2.18839850e+07, 2.08322005e+07, 2.04682024e+07,\n",
       "       1.91565168e+07, 1.83771892e+07, 1.80666317e+07, 1.74161029e+07,\n",
       "       1.73204922e+07, 1.68942314e+07, 1.62671359e+07, 1.60362358e+07,\n",
       "       1.55997719e+07, 1.41907518e+07, 1.39067853e+07, 1.35859078e+07,\n",
       "       1.31800157e+07, 1.27109482e+07, 1.21448124e+07, 1.16070599e+07,\n",
       "       1.14949593e+07, 1.08802543e+07, 1.05035013e+07, 1.01031522e+07,\n",
       "       9.32942513e+06, 9.06572524e+06, 8.72190833e+06, 7.89103321e+06,\n",
       "       6.87712649e+06, 6.16872940e+06, 5.84458472e+06, 5.69935473e+06,\n",
       "       5.56065292e+06, 4.64261612e+06, 3.39538084e+06, 3.04980605e+06,\n",
       "       1.54343683e+06, 2.79403476e-21, 6.03503132e-22, 5.08563577e-23,\n",
       "       4.93822204e-23, 4.93822204e-23, 4.93822204e-23, 4.93822204e-23,\n",
       "       4.93822204e-23, 4.93822204e-23])"
      ]
     },
     "execution_count": 1242,
     "metadata": {},
     "output_type": "execute_result"
    }
   ],
   "source": [
    "# Obter os vectores pp de acordo com um certo nivel de confianca\n",
    "k, eigenvalues, eigenvectors, phi, mean, variance = pca(X, 0.8)\n",
    "eigenvalues"
   ]
  },
  {
   "cell_type": "code",
   "execution_count": 1243,
   "metadata": {},
   "outputs": [
    {
     "name": "stdout",
     "output_type": "stream",
     "text": [
      "Número de vectores pp a usar: 10\n"
     ]
    },
    {
     "data": {
      "image/png": "[encoded data removed]",
      "text/plain": [
       "<Figure size 720x720 with 1 Axes>"
      ]
     },
     "metadata": {
      "needs_background": "light"
     },
     "output_type": "display_data"
    }
   ],
   "source": [
    "# Obter os vectores pp de acordo com um certo nivel de confianca\n",
    "k, eigenvalues, eigenvectors, phi, mean, variance = pca(X, 0.8)\n",
    "# Alterar nome da variável\n",
    "ponto=eigenvalues\n",
    "# Obter o gráfico do cotovelo\n",
    "plt.figure(figsize=(10,10))\n",
    "t = np.arange(0, size, 1)\n",
    "plt.plot(t, eigenvalues, 'x')\n",
    "#plt.plot(np.argmin(ponto), eigenvalues[np.argmin(ponto)], 'o')\n",
    "plt.plot(k, eigenvalues[k], 'o')\n",
    "plt.show()"
   ]
  },
  {
   "cell_type": "code",
   "execution_count": 1244,
   "metadata": {},
   "outputs": [
    {
     "data": {
      "text/plain": [
       "array([0.00032436, 0.00053462, 0.00063134, ..., 0.        , 0.        ,\n",
       "       0.        ])"
      ]
     },
     "execution_count": 1244,
     "metadata": {},
     "output_type": "execute_result"
    }
   ],
   "source": [
    "eigenvectors.T[0]"
   ]
  },
  {
   "cell_type": "code",
   "execution_count": 1245,
   "metadata": {},
   "outputs": [],
   "source": [
    "# Exemplo de uma eigenface do dataset\n",
    "#display(plt.matshow(np.reshape(eigenvectors.T[0], (320,243)), cmap=plt.cm.RdYlGn))"
   ]
  },
  {
   "cell_type": "code",
   "execution_count": 1246,
   "metadata": {},
   "outputs": [],
   "source": [
    "# Exemplo da \"cara média\" do dataset\n",
    "#display(plt.matshow(np.reshape(mean, (320,243)), cmap='gray'))"
   ]
  },
  {
   "cell_type": "code",
   "execution_count": 1247,
   "metadata": {},
   "outputs": [
    {
     "data": {
      "text/plain": [
       "[array([-5423.22147407,  8056.8677778 , -4548.37300971,  2286.25335051,\n",
       "        -4435.1787614 ,  2444.19262471,  -424.65024283,  2880.85818456,\n",
       "         -887.0561847 ,  2738.93349644]),\n",
       " array([-22744.08833987, -11716.17581594,   6010.94446132,  -1788.40129045,\n",
       "           749.47708267,  -2808.62481085,   5115.58889174,    211.54693316,\n",
       "         -6479.38014089,   4076.01338965]),\n",
       " array([-4067.36828735,  8563.38217485, -5376.21559469,  1349.14687061,\n",
       "        -4957.73037398,  1576.81032877,  -283.51300674,  2976.32335356,\n",
       "        -1700.57484693,  2063.98158012]),\n",
       " array([-3285.17644615,  8626.85905446, -4382.83331511,  2964.26206498,\n",
       "        -2437.32846893,   502.23087535,  -584.84012041,  1087.5583306 ,\n",
       "        -3799.83003532, -2398.85648446]),\n",
       " array([ 4859.92189029,  2813.2502258 ,  7750.73083999, -1083.31325504,\n",
       "        -3169.56530612, -2259.90674371,  5184.88061125,  -416.78783336,\n",
       "         3783.5219655 , -1102.38958115]),\n",
       " array([ 2686.55900746,  4486.97512209,  3333.95858037, -1518.27696056,\n",
       "         4119.8674299 ,  -709.68057027,   799.22921372, -2645.10630964,\n",
       "        -1483.92145158, -5568.98016947]),\n",
       " array([ 16556.06866911, -12126.13867889,  -8180.69145986,   9001.85281741,\n",
       "         -5751.10390525,   -621.49537957,   -434.0603875 ,  -2980.52781548,\n",
       "          -801.49562901,    322.31572671]),\n",
       " array([12241.56080654, -6742.36303618,  6901.36763411,  4597.25328049,\n",
       "        -2706.72677108, -2384.38553207,  2251.63771974,  4102.76895596,\n",
       "          437.55641235,  1730.80567335]),\n",
       " array([12363.44968875, -2332.70326648,  5364.62332479, -4059.01352452,\n",
       "         2161.26397823, -2024.85209622, -5580.96367999,  3465.95447166,\n",
       "          -40.18038102,   633.31520181]),\n",
       " array([ 12938.46346006, -14327.28135734, -12008.73513701,   8412.22755873,\n",
       "          1126.27034653,   4775.73501364,   2215.67004452,    258.42300958,\n",
       "         -1057.37257785,   1259.12912698]),\n",
       " array([ 7198.7195252 ,  -181.29858547,  6696.56183665, -2339.12189385,\n",
       "         3287.21321351,   194.92815715,   960.67012646,  1969.36531856,\n",
       "          457.37594165, -2087.02849912]),\n",
       " array([  3476.62235791, -15710.88521563,  -4855.71433561,  12806.42771355,\n",
       "         -2278.54937068,  -3228.56814574,  -3661.11014384,  -4997.09721851,\n",
       "           115.75842872,   2934.83588723]),\n",
       " array([-15836.6023883 ,    663.44515   ,   3499.44420949,   7804.15346116,\n",
       "          2417.23596418,   4628.23406418,  -4804.2302147 ,  -3403.38202454,\n",
       "          4150.72382868,    556.39851486]),\n",
       " array([11535.40267503,  -863.14811138,  3704.41233211, -4320.87886191,\n",
       "         2088.99448806, -1489.47718584, -4106.12811358,   916.63312788,\n",
       "          521.18394291,  -522.08225974]),\n",
       " array([-3751.0478889 ,  8300.37782276, -4343.8391682 ,  2921.84704824,\n",
       "        -3885.02723976,  1940.72186743,  -939.61370343,   802.21846904,\n",
       "        -3429.13912328, -1428.94942233]),\n",
       " array([ 11737.29074375, -11569.14548094, -12490.89280142,   8769.70210654,\n",
       "         -2351.665145  ,  -1158.60983452,  -1938.51595235,   1282.57436169,\n",
       "          1678.19854555,   3066.58540588]),\n",
       " array([  408.62202979,  6768.74432938, -6992.78406239, -2637.99512254,\n",
       "         4360.76902785, -4969.12536664,  1728.72982075, -5277.94511773,\n",
       "         -348.82581688,   711.60750004]),\n",
       " array([-4343.38354922,  8534.40358485, -6588.69176991,  1483.18121582,\n",
       "        -2642.30947956,   763.52083225, -1072.33810378,  3158.31561625,\n",
       "        -1963.22765598,  2927.34902559]),\n",
       " array([-21577.41100332, -11374.95800224,   7376.8001192 ,  -2914.83830438,\n",
       "            44.65526171,  -3571.28945181,   5665.98853416,   1438.06478555,\n",
       "         -6551.08405996,   3062.73170584]),\n",
       " array([-12833.74186779, -16855.23836647,  -9962.52401121, -12575.21787846,\n",
       "          -599.37332687,  -2466.48857332,  -4037.83386066,   -154.75622165,\n",
       "          3485.85190574,  -4183.11048473]),\n",
       " array([ 16810.20385184, -12791.35818708,   3854.42661   ,   9373.2343463 ,\n",
       "         -2550.89617713,  -3362.50089463,    633.28341545,   1565.09547343,\n",
       "         -2456.39554399,   -819.96516651]),\n",
       " array([ -224.15718506,  6938.2634569 , -7465.44361864, -2167.57056339,\n",
       "         3149.7644956 , -4458.87104466,  1546.48360044, -4595.72085479,\n",
       "         -118.96611422,   978.77546893]),\n",
       " array([ 3695.7637884 , -1340.00909471, -5656.17473465, -2029.37164959,\n",
       "         6219.85901129,  8300.44332668,  5044.23757972,   431.10692792,\n",
       "         -191.36785892,  -299.108352  ]),\n",
       " array([-21359.39971209, -10425.36445594,   6081.10886217,   -363.77123292,\n",
       "           970.53856984,  -2598.97273177,   4413.23781915,   -616.17543277,\n",
       "         -5492.95392778,   4615.7001866 ]),\n",
       " array([-8514.89904251,  5835.04241152,  1906.1285643 ,  6126.85348093,\n",
       "         2023.43624622, -3004.48916143,  2295.47526947,  4619.61350357,\n",
       "         6169.15836522,   442.03470883]),\n",
       " array([ 3911.82546893,  5316.21021312,  4626.30959419, -2885.46852481,\n",
       "        -9889.2941865 ,  3328.0905687 ,  -512.86465944, -3148.34638818,\n",
       "        -1434.98451772,   224.47068767]),\n",
       " array([-3.98368996e+03,  6.92028938e+03, -6.76161793e+03,  1.10255897e+03,\n",
       "         5.35229766e+00, -3.16482605e+02, -1.15946463e+03,  2.12123276e+03,\n",
       "        -9.17195615e+02,  1.28243881e+03]),\n",
       " array([12344.53731721, -2310.88943589,  5539.86124407, -3792.90028347,\n",
       "         2741.4532089 , -2165.14350162, -4565.87209498,  2799.32355273,\n",
       "          836.70955465,   290.56169875]),\n",
       " array([ 7481.77698166,   199.40609852,  1630.6702246 , -2175.48701928,\n",
       "         4829.75318851,  1885.46580117, -1941.71451896,  -317.68232993,\n",
       "        -2027.56888819, -4009.52605643]),\n",
       " array([ 7097.04321457, -4239.97810283, -2836.23345183,  -760.16726785,\n",
       "         3643.32958507, 11347.41296606,  5829.67931535,  2952.96555652,\n",
       "         -275.56483436,   167.31830525]),\n",
       " array([ 5533.52516051,  2167.90199312,  8367.39094532, -1092.9501313 ,\n",
       "        -3325.55451683, -1877.79891843,  4629.39341965,   110.68896203,\n",
       "         3468.8820937 ,  -738.89731193]),\n",
       " array([ 4757.17746315,  1133.08536929, -1604.34836191,   111.58486097,\n",
       "          249.12510068, -3788.63997926,  6491.50176693, -3749.30366444,\n",
       "         3154.22710065,   -31.23592565]),\n",
       " array([ 7293.65066088,   378.58668667,  9641.20450603, -1009.60795478,\n",
       "         1839.01613774,  1103.35869425, -2045.76633699,  3609.51839171,\n",
       "        -2665.46259723, -3750.29903075]),\n",
       " array([15612.93057639, -9548.30516926, -4708.61608268,  5385.47797169,\n",
       "         1354.52396161, -1311.52590866, -1645.25745316, -1365.14458677,\n",
       "        -1883.52888407,   830.00677309]),\n",
       " array([-12753.75505689, -16934.93837363,  -7591.94759092, -11510.73298173,\n",
       "         -5326.72995796,  -3423.2733868 ,   -449.97443493,   1581.29085999,\n",
       "          7004.39960467,  -2499.22832436]),\n",
       " array([-4450.95400475,  6213.97952299, -3389.56126358,  1690.4630921 ,\n",
       "         7493.9688011 , -6288.18368811, -1208.08495976,  2780.64765399,\n",
       "        -1431.487911  ,  1001.72485116]),\n",
       " array([-17551.00117362,  -1967.04566987,   6789.70738021,   6864.50657675,\n",
       "          2641.82679328,   4253.06743206,  -3347.22972464,  -3696.2493068 ,\n",
       "           765.12578868,   -223.29438836]),\n",
       " array([12295.92885877, -2166.09886935,  5232.12534179, -4137.28734736,\n",
       "         2008.45849563, -2019.06261919, -5618.56278577,  3363.41766399,\n",
       "          -81.20319033,   640.47068586]),\n",
       " array([-1810.70629161,  7246.21383074, -7590.73030672, -1158.66456183,\n",
       "         4147.61446785, -5609.77738061,  1582.0394665 , -3521.11415092,\n",
       "          -49.66373682,   935.82501839]),\n",
       " array([ -138.28081405, -7896.41849314,   768.39247161, -9701.06717852,\n",
       "        -1415.99357182,  -734.65255377, -5911.50395922,  3417.15545798,\n",
       "         1834.60037034, -1325.71381691]),\n",
       " array([-16777.83938706,   -409.55851566,   5529.36563209,   7405.41612269,\n",
       "          2190.25796737,   4863.00348441,  -3341.5961781 ,  -3570.1587303 ,\n",
       "          3519.56020022,   1024.82714396]),\n",
       " array([   76.04457101,  6543.40346072, -6428.39873305, -2207.19228129,\n",
       "         4146.53521141, -5134.84904529,  2110.91785158, -5059.28093972,\n",
       "         -203.90882179,   931.85928576]),\n",
       " array([-6144.66179238,  7900.11180251, -5078.71557319,  2293.75149278,\n",
       "        -3818.88855846,  2740.61679703,  -451.48710966,  3766.28056661,\n",
       "         -550.29442252,  2902.74670263]),\n",
       " array([-6426.74917266,  6993.5649645 ,   759.53696467,  5733.1726356 ,\n",
       "          900.99074218, -3433.84851057,  2358.25483652,  5727.73684562,\n",
       "         5072.16243949,  -562.68575853]),\n",
       " array([-17860.32661948,  -1347.15795229,   4341.01862708,   7169.42121762,\n",
       "          2504.65298433,   4928.04369575,  -4010.04657735,  -4177.38600368,\n",
       "          3113.6327712 ,   1073.99131594]),\n",
       " array([ 3353.04889459,  4346.99160143,  4259.90224829, -1844.22977357,\n",
       "         4172.65160859,  -585.00465042,   969.77089986, -2410.23060338,\n",
       "        -1586.31627832, -5962.10956415]),\n",
       " array([-15621.35195713, -13903.58607897, -11749.68442501, -12482.0978601 ,\n",
       "         -6282.06334389,  -1995.0502234 ,  -1219.39145279,  -2032.06337125,\n",
       "          3967.19679029,  -3070.59555996]),\n",
       " array([-6343.56802954,  6818.26028081,   762.90824484,  5863.62704054,\n",
       "         1120.39235213, -3683.7520943 ,  2349.61856457,  5657.444153  ,\n",
       "         5436.19595343,  -155.28651288]),\n",
       " array([-6343.56802954,  6818.26028081,   762.90824484,  5863.62704054,\n",
       "         1120.39235213, -3683.7520943 ,  2349.61856457,  5657.444153  ,\n",
       "         5436.19595343,  -155.28651288]),\n",
       " array([-2133.38536923,  7158.84042073,   394.1134049 ,   372.52596001,\n",
       "        -8751.27332079,  4168.59385431,  1113.6433468 ,   142.66949382,\n",
       "         -735.85059996,  1551.57803352]),\n",
       " array([ 8356.88078215,  1364.19951111,   668.81974602, -6482.80632318,\n",
       "         1290.14438444,  1272.25703748, -2662.62980796, -2489.16661315,\n",
       "          955.25476784,  5059.93387103]),\n",
       " array([    7.43359947,  6944.70755932, -7008.86966578, -2254.48000431,\n",
       "         4393.39381471, -5352.51132299,  2269.72549629, -4866.11918963,\n",
       "           77.52987907,   168.57113939]),\n",
       " array([12363.44968875, -2332.70326648,  5364.62332479, -4059.01352452,\n",
       "         2161.26397823, -2024.85209622, -5580.96367999,  3465.95447166,\n",
       "          -40.18038102,   633.31520181]),\n",
       " array([-5040.9783825 ,  8285.2534832 , -3191.18339913,  3474.18757685,\n",
       "          222.56530685, -1405.314178  , -2399.13888401,  4445.07002046,\n",
       "        -2365.62756897, -1104.95569991]),\n",
       " array([ -147.15605093,  7101.29048399, -7284.1222349 , -2220.3296449 ,\n",
       "         4366.56002421, -5392.41200162,  1956.05212983, -4704.46807257,\n",
       "         -255.6130392 ,   426.85090914]),\n",
       " array([ 8554.18154396, -1384.25860821,  1424.68557185, -1066.93868008,\n",
       "         -158.09881058, -1232.06956805,  4394.76750187, -2753.92330013,\n",
       "         4302.40838475,   830.31875662]),\n",
       " array([ 6038.08490092,  1898.52191745,  7902.4089954 , -1587.71219428,\n",
       "        -2766.12300894, -2041.57089012,  4107.07858014,   522.00914957,\n",
       "         3638.79272164,  -277.11249522]),\n",
       " array([-4343.38354922,  8534.40358485, -6588.69176991,  1483.18121582,\n",
       "        -2642.30947956,   763.52083225, -1072.33810378,  3158.31561625,\n",
       "        -1963.22765598,  2927.34902559]),\n",
       " array([-6800.95909512,  7300.39988193,  -760.53672971,  5771.70594933,\n",
       "         -573.47652623, -1907.37270198,   107.44708115,  5527.69737794,\n",
       "         3363.68972032,   267.34903237]),\n",
       " array([15703.84677404, -9800.59364237, -4091.78518311, 10987.62343683,\n",
       "        -4783.08662318, -4151.37372542,   728.05078449,  -931.21705412,\n",
       "         -715.89842113, -3357.86703077]),\n",
       " array([-17987.01932406,  -8049.60859367,  -8237.25593988,  -9312.63143757,\n",
       "         -5482.41545751,  -1090.60972412,  -2839.7033461 ,   2432.79460961,\n",
       "           715.3528594 ,  -3911.67442083]),\n",
       " array([ 3081.57582708,  5919.16427253,  3115.89500583, -2826.1517034 ,\n",
       "        -9658.97034357,  3419.74326029,   -70.37351163, -3343.93379791,\n",
       "        -1542.38641819,   237.79267989]),\n",
       " array([  278.64210433,  7427.59192173, -3398.3302051 ,  -481.78975644,\n",
       "         -848.66970166, -1250.22103757, -1341.68025592,   212.09193316,\n",
       "        -3405.99237063, -2150.51748595]),\n",
       " array([ 9149.81572456,   309.25000255,  2941.86472152, -5933.83194169,\n",
       "         2506.52380127,    20.8725802 , -3969.82749982,  -399.65266914,\n",
       "          578.07797716,  5462.48757245]),\n",
       " array([ 3485.55258072,  4087.09329301,  4680.96737058, -1841.29609424,\n",
       "         4793.23575702, -1063.66615345,  1454.16366483, -2743.83647562,\n",
       "        -1771.39698735, -6036.21703802]),\n",
       " array([ 4336.61787621,  4867.82177903,  5084.72263906, -3186.63272347,\n",
       "        -9785.86966372,  3345.54330948,    29.87633336, -3144.00058057,\n",
       "         -872.68281006,   767.74754276]),\n",
       " array([ 8775.35620562, -1388.81349127,  1445.80135414, -1270.96644535,\n",
       "         1373.89631617, -2734.98034518,  4578.33208607, -2758.81627748,\n",
       "         4366.5130937 ,    95.21861031]),\n",
       " array([ 3581.81057832,  5871.34040947,  3961.45037432, -3038.10040627,\n",
       "        -9325.56424357,  2994.59582792,  -781.57843133, -3136.64661221,\n",
       "        -1841.21109767,  -170.89346654]),\n",
       " array([ 4302.27029679,   523.81265705,  7397.98268853, -2861.61790548,\n",
       "         1317.15289403,  -396.23723915, -1721.14072245,  3266.40835555,\n",
       "          678.41067616,  1865.0055101 ]),\n",
       " array([-16077.8061243 ,  -4851.78774498, -11116.51492773,  -8395.8214065 ,\n",
       "         -5836.70275042,  -1790.6189936 ,  -2088.45718831,   2669.26677915,\n",
       "          2389.87705871,   -162.26492279]),\n",
       " array([ 9381.07956622,  -317.96401751,  8729.4907726 , -4204.5113649 ,\n",
       "         4183.3468423 ,  -459.7969521 , -6143.68452982,  4224.45370404,\n",
       "        -3512.99015521, -1541.53964155]),\n",
       " array([ 8494.29746698,   876.73273319,   914.05804071, -6146.45831737,\n",
       "         1668.10141722,  1168.31398996, -2389.21320752, -2010.05473624,\n",
       "         1083.50113249,  5399.72575004]),\n",
       " array([ 9570.19146264,  -128.92788275,  2442.41520627, -6296.62717689,\n",
       "         2353.39415164,   866.66297826, -4132.02082819,  -144.7824829 ,\n",
       "          542.64766832,  6006.51293403]),\n",
       " array([  114.9924991 ,  7033.64409932, -7123.45848841, -2298.35945569,\n",
       "         4081.69668276, -5134.94013795,  1990.70404377, -4775.52491139,\n",
       "         -224.4147108 ,   278.85976524]),\n",
       " array([ 9570.19146264,  -128.92788275,  2442.41520627, -6296.62717689,\n",
       "         2353.39415164,   866.66297826, -4132.02082819,  -144.7824829 ,\n",
       "          542.64766832,  6006.51293403]),\n",
       " array([ 4857.31894674,  4786.91957054,  4516.64941308, -3933.21052986,\n",
       "        -8892.05953475,  3047.99195614,  -725.5341721 , -3174.47620829,\n",
       "        -1050.76413696,   552.43052801]),\n",
       " array([ 6556.60033611,  1169.87180204,  6906.10297942, -1639.22737197,\n",
       "        -1554.14062788,   691.35784446,  2651.59099574,   384.3428646 ,\n",
       "         1452.80211939, -1121.63723892]),\n",
       " array([-7074.24287765,  7833.42325553, -2238.08864822,  5271.52448244,\n",
       "         -139.37557231,  -370.97770401,  -390.86879863,  3217.95802448,\n",
       "         -349.58171549,  -923.58414972]),\n",
       " array([ 5188.56108629,  2575.46082028,  7812.89283162, -1321.53734667,\n",
       "        -2901.06889909, -2506.64004055,  4896.26312092,  -328.86370872,\n",
       "         4126.64704004, -1074.72197348]),\n",
       " array([ 5118.89028365,  2851.46390591,  5705.62167049, -2122.25674176,\n",
       "         4075.48869873,   585.20847309,  -514.3369276 , -1487.96285425,\n",
       "        -1900.41302684, -5583.51556492]),\n",
       " array([-22602.99468659,  -7965.76800396,   2302.15771349,   1901.75633139,\n",
       "          2979.17273608,   1363.60711302,  -1921.98188111,  -1898.68863728,\n",
       "         -1826.10052612,  -3830.84196676]),\n",
       " array([ 4147.81707719,  3644.39173266,  4893.27408109, -1994.40338614,\n",
       "         4600.41680447,  -198.76415538,   373.48775542, -2265.47303937,\n",
       "        -1949.8965168 , -6183.71249293]),\n",
       " array([-1520.04415783,  7449.45357937, -7985.83474649, -1525.28904722,\n",
       "         1152.25663281, -2806.08037208,   159.66606732, -1168.87403853,\n",
       "           33.6147295 ,  3153.76377271]),\n",
       " array([ 9620.58052306, -4119.01026676, -3002.37284001, -2576.63205267,\n",
       "         5434.83610289,  8416.14830987,  2159.34110833,  1915.13220562,\n",
       "         -238.22515413,   344.1959988 ]),\n",
       " array([ 4672.63607569,  2996.64970879,  7461.65440941, -1090.23318487,\n",
       "        -3043.41161807, -2521.83983428,  5004.01497761,  -410.26467575,\n",
       "         3813.57441675, -1249.91446471]),\n",
       " array([-22249.49250607, -12377.6527879 ,   7040.28651197,  -4568.49680303,\n",
       "          -306.21353878,  -3106.20290786,   5375.59539542,   2378.03351051,\n",
       "         -6136.30821563,   1261.53619125]),\n",
       " array([ 5185.34967675,  2492.06011889,  7703.72528002, -1349.9195891 ,\n",
       "        -3107.23642017, -2218.97572698,  4817.33920939,  -397.01912453,\n",
       "         3812.13536902,  -724.29873767]),\n",
       " array([ 7562.92862476, -2956.35360456, -1714.71903242, -1584.21597889,\n",
       "         4959.23768907,  9693.15866252,  5112.29953304,  2505.75379928,\n",
       "         -546.49373881,  -991.51402171]),\n",
       " array([-25389.21020959, -11230.94265909,   1010.61220999,  -2435.40502361,\n",
       "          -876.16558905,   2343.89062547,  -2923.35837667,   -224.72583002,\n",
       "          2611.36051297,  -5064.21283753]),\n",
       " array([-4036.14084794,  5970.59800366, -4608.19714765,  1160.47558757,\n",
       "         7417.23604645, -6229.64439078,  -685.24560834,  1883.68503762,\n",
       "         -842.5154073 ,  1950.86859885]),\n",
       " array([ 4337.81054866,  5251.44863303,  4678.40962893, -3438.84720729,\n",
       "        -9225.86645551,  3020.04807749,  -822.57231157, -3143.98127657,\n",
       "        -1658.93288433,  -102.26281776]),\n",
       " array([-4639.04933329,  8536.01865702, -6516.36508048,  1612.1526999 ,\n",
       "        -2882.39057298,  1000.11202554, -1048.81728931,  3418.12792996,\n",
       "        -1828.10701406,  2931.13821149]),\n",
       " array([-15093.40608625,  -4128.2726834 ,  -4185.76107534,  -5920.51914913,\n",
       "         -4378.78926805,  -1520.29472815,   -584.67674702,   4082.45194754,\n",
       "          2168.56135142,  -4458.30830534]),\n",
       " array([-1637.1179467 ,  8691.83637925, -4425.93105548,  -379.52544317,\n",
       "        -2565.3117073 ,  -827.96502681,  -448.35121594,  1144.88868415,\n",
       "        -1988.0087498 ,  -103.38219691]),\n",
       " array([ 5438.6317917 , -4500.61115416, -5924.17322122, -1225.01178225,\n",
       "         7334.8871717 , 11509.22150235,  3633.27875949,  2520.92995826,\n",
       "        -1000.09572951,  -327.36994782]),\n",
       " array([12241.56080654, -6742.36303618,  6901.36763411,  4597.25328049,\n",
       "        -2706.72677108, -2384.38553207,  2251.63771974,  4102.76895596,\n",
       "          437.55641235,  1730.80567335]),\n",
       " array([-8557.90293048,  4769.85360395,  3022.52585152,  6098.7740101 ,\n",
       "         1340.61339814, -1261.18468543,  1911.45674135,  3417.45373185,\n",
       "         6132.24036259,  1525.52700429]),\n",
       " array([ 6864.9977268 ,  2532.42850053,   869.19818422, -5985.84975712,\n",
       "         2916.62335865,   335.82542724, -2841.26822686, -2999.10475604,\n",
       "         -771.80532452,  1950.78381096]),\n",
       " array([ 3259.75861227,  6033.67077078,  3435.28743703, -2878.30337544,\n",
       "        -9445.21213394,  3189.7999298 ,  -582.20762807, -3201.82696517,\n",
       "        -1937.06966011,  -326.57042375]),\n",
       " array([12916.64977871, -3293.8890488 ,  5909.02061763, -2968.05962819,\n",
       "         2444.38802925, -2373.62603598, -5019.33467197,  3683.10733133,\n",
       "          153.40818023,   635.7804529 ]),\n",
       " array([-15448.91050643,  -2175.01241082,   6099.33976515,   5583.71976221,\n",
       "          3450.73741528,   -431.78066017,  -2969.46850712,  -2823.04731757,\n",
       "         -3754.8758962 ,  -2964.10565176]),\n",
       " array([11491.9815389 , -6389.28536319, -4447.88667331,  5526.53825723,\n",
       "        -8981.1624587 ,  2589.81701671,  2217.75082905,  -662.37808079,\n",
       "         1654.10653537,  3025.75096334]),\n",
       " array([ 2746.644493  , -7064.44856269, -9279.92271344, -6497.08480512,\n",
       "         3440.28387666, 10001.12398657,  3260.1181232 ,  4596.42077816,\n",
       "         2759.79621231,  -233.22081384]),\n",
       " array([ 15769.6229565 , -10888.40504744,   2054.21408116,   9819.48149777,\n",
       "         -3977.167668  ,  -3553.94964652,   1091.31004962,   -274.95658934,\n",
       "          -219.87932569,  -2603.63610184]),\n",
       " array([-17266.4758721 ,  -1023.29131491,   6038.97923509,   7462.17236454,\n",
       "          3048.84067799,   4683.38430638,  -3700.04566181,  -4201.02071385,\n",
       "          2497.73302161,    515.64058585]),\n",
       " array([-2535.8101783 ,  8069.92274513,  2034.94098775,  2558.84313817,\n",
       "        -1961.16840403,  -827.96738611,   473.9634359 ,  2659.95751596,\n",
       "        -2910.12294622, -5305.70914661]),\n",
       " array([ 6875.10994664,  2236.45081443, -2434.370972  , -4477.21648524,\n",
       "         5770.20497003,  -810.63586757,   178.60502553, -3266.08151256,\n",
       "          206.94227369, -1571.19706393]),\n",
       " array([ 16521.69642517, -12085.26515441,  -5613.42039486,   9370.2674608 ,\n",
       "          1100.75656099,  -2690.76890684,  -2053.81068102,  -1781.23814158,\n",
       "         -2299.87539839,  -2677.63881461]),\n",
       " array([ 7600.74311074,  1897.02089267,   628.13423542, -6142.28029389,\n",
       "         1815.20907341,   658.61733607, -1800.26382945, -2717.32152558,\n",
       "          808.23698371,  4320.13745316]),\n",
       " array([-4257.98889664,  8926.76271583, -3996.54683443,  3708.73125646,\n",
       "        -2555.59656863,   897.8541687 , -1122.74670348,  1898.85362453,\n",
       "        -4139.60592045, -2823.16676651]),\n",
       " array([-15836.6023883 ,    663.44515   ,   3499.44420949,   7804.15346116,\n",
       "          2417.23596418,   4628.23406418,  -4804.2302147 ,  -3403.38202454,\n",
       "          4150.72382868,    556.39851486]),\n",
       " array([ 8774.64914353,   816.86894029,  1707.68946499, -6503.72670981,\n",
       "         2395.66600743,   633.40797727, -3212.32457969, -1501.18048546,\n",
       "          706.84775731,  5423.63966651]),\n",
       " array([-4257.98889664,  8926.76271583, -3996.54683443,  3708.73125646,\n",
       "        -2555.59656863,   897.8541687 , -1122.74670348,  1898.85362453,\n",
       "        -4139.60592045, -2823.16676651]),\n",
       " array([ 18450.33712242, -11394.74058926,   2082.1999578 ,   6163.04208017,\n",
       "         -1286.76908189,  -3020.71739712,  -4132.16522698,   2304.18779917,\n",
       "         -3258.48128204,  -1650.75958044]),\n",
       " array([ 8017.82472587, -4019.73785981, -2238.70503747, -1814.49908664,\n",
       "         5154.16085275, 11064.18480899,  4921.64099324,  2418.31532943,\n",
       "         -544.69587228,  -169.76719571]),\n",
       " array([-14886.47360065,   1482.45281756,   2993.3397046 ,   7629.20994899,\n",
       "          1910.3208911 ,   4335.18402928,  -4463.0708968 ,  -2551.01941894,\n",
       "          4380.21795423,    512.77061318]),\n",
       " array([-3535.25264393,  8603.11058459, -4306.50387682,  2928.39409523,\n",
       "        -3449.79703448,  1637.13231668,  -972.26870888,   859.09824926,\n",
       "        -4159.89111136, -2173.83549605]),\n",
       " array([-21359.39971209, -10425.36445594,   6081.10886217,   -363.77123292,\n",
       "           970.53856984,  -2598.97273177,   4413.23781915,   -616.17543277,\n",
       "         -5492.95392778,   4615.7001866 ]),\n",
       " array([ 3494.4935483 , -1012.71165106, -4977.62815821, -1751.47541389,\n",
       "         6261.86093862,  8577.90855509,  6411.39989727,  -346.35514607,\n",
       "         -788.75574361, -1286.37745241]),\n",
       " array([-16443.67531473,   -188.13320921,   4704.92886711,   7630.06351983,\n",
       "          2230.19871179,   4864.31941485,  -3975.1231875 ,  -3944.77559591,\n",
       "          3839.58535949,    899.40830665]),\n",
       " array([ 2093.13710296,  6387.10859725, -1654.16134453, -1798.16830699,\n",
       "        -2402.51401269,   159.87924256,  -949.98818329, -1257.02919546,\n",
       "        -3159.82741387, -1459.47706613]),\n",
       " array([ 4165.34845041,  4884.48056298, -3034.04621999, -2973.88773059,\n",
       "        -2807.59425137,  2008.8132041 ,   625.52336007, -4651.02276302,\n",
       "         -451.7255801 , -1500.17237082]),\n",
       " array([-21430.60615907, -10749.25920391,   6482.43844686,  -1093.04985945,\n",
       "           570.20256357,  -2811.24548111,   4875.90307245,   -107.97053073,\n",
       "         -5807.15887055,   4534.02680612]),\n",
       " array([-3988.95248783,  6386.91795385, -3810.90946769,  1376.94581588,\n",
       "         7414.34509275, -6361.22781639, -1024.43608596,  2508.52017288,\n",
       "        -1538.21093918,   901.9264089 ]),\n",
       " array([14634.58620366, -8513.58895983, -7232.33477352,  6135.57144557,\n",
       "         2299.8420734 , -3508.64558615,  -881.10376999, -3881.1618437 ,\n",
       "        -1617.35956566, -2044.98924324]),\n",
       " array([ 6726.70034371,  -247.06166978,  2038.87368941,  -546.59752138,\n",
       "        -1361.99765396, -1757.55335043,  6242.55965158, -3408.37839607,\n",
       "         4074.7547905 ,   206.62516165])]"
      ]
     },
     "execution_count": 1247,
     "metadata": {},
     "output_type": "execute_result"
    }
   ],
   "source": [
    "# Obter os coeficientes das projeccoes das eigenfaces\n",
    "coef_proj = coefProj(phi, eigenvectors, X.shape[0])\n",
    "coef_proj"
   ]
  },
  {
   "cell_type": "code",
   "execution_count": 1253,
   "metadata": {},
   "outputs": [
    {
     "data": {
      "image/png": "[encoded data removed]",
      "text/plain": [
       "<PIL.Image.Image image mode=L size=320x243 at 0x1143299D0>"
      ]
     },
     "execution_count": 1253,
     "metadata": {},
     "output_type": "execute_result"
    }
   ],
   "source": [
    "# Imagem para teste\n",
    "#imgsTest = glob.glob(\"TestYaleFaces/*.gif\")\n",
    "#for i in imgsTest:\n",
    " #   input_img = Image.open(i).convert('L')\n",
    "  #  print(i)\n",
    "   # dist, test_coef_proj = testar(input_img, mean, eigenvectors, eigenvalues, X.shape[0], coef_proj, 'mahalanobis')\n",
    "\n",
    "input_img = Image.open(\"TestYaleFaces/subject03.happy.gif\").convert('L')\n",
    "input_img"
   ]
  },
  {
   "cell_type": "code",
   "execution_count": 1254,
   "metadata": {},
   "outputs": [
    {
     "name": "stdout",
     "output_type": "stream",
     "text": [
      "Distancia minima: 0.0008\n",
      "Imagem nr.: 116\n"
     ]
    },
    {
     "data": {
      "image/png": "[encoded data removed]",
      "text/plain": [
       "<PIL.Image.Image image mode=L size=320x243 at 0x117FFAC90>"
      ]
     },
     "execution_count": 1254,
     "metadata": {},
     "output_type": "execute_result"
    }
   ],
   "source": [
    "# Teste do reconhecimento\n",
    "dist, test_coef_proj = testar(input_img, mean, eigenvectors, eigenvalues, X.shape[0], coef_proj, 'mahalanobis')\n",
    "lista[np.argmin(dist)]"
   ]
  },
  {
   "cell_type": "code",
   "execution_count": 1250,
   "metadata": {},
   "outputs": [],
   "source": [
    "# Conclusoes: nao consegue reconhecer quando tem uma luz de lado. Caso contrario, faz bem o reconhecimento."
   ]
  },
  {
   "cell_type": "code",
   "execution_count": null,
   "metadata": {},
   "outputs": [],
   "source": []
  },
  {
   "cell_type": "code",
   "execution_count": null,
   "metadata": {},
   "outputs": [],
   "source": []
  }
 ],
 "metadata": {
  "kernelspec": {
   "display_name": "Python 3",
   "language": "python",
   "name": "python3"
  },
  "language_info": {
   "codemirror_mode": {
    "name": "ipython",
    "version": 3
   },
   "file_extension": ".py",
   "mimetype": "text/x-python",
   "name": "python",
   "nbconvert_exporter": "python",
   "pygments_lexer": "ipython3",
   "version": "3.7.4"
  }
 },
 "nbformat": 4,
 "nbformat_minor": 2
}
